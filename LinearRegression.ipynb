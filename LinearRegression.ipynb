{
 "cells": [
  {
   "cell_type": "code",
   "execution_count": 32,
   "metadata": {},
   "outputs": [
    {
     "name": "stdout",
     "output_type": "stream",
     "text": [
      "0.0350749705923\n",
      "1.47880271753\n"
     ]
    }
   ],
   "source": [
    "from numpy import *\n",
    "\n",
    "points = genfromtxt('data.csv')\n",
    "\n",
    "def errorFunction(b_start, m_start, points):\n",
    "    totalError = 0\n",
    "    for i in range(0,len(points)):\n",
    "        #providing data points\n",
    "        x = points[i,0]\n",
    "        y = points[i,1]\n",
    "        #computing error\n",
    "        totalError += (y - (m * x + b)) ** 2\n",
    "    return totalError / float(len(points))\n",
    "\n",
    "#stepGradient: WHere magic happens\n",
    "def stepGradient(current_b, current_m, learningRate, points):\n",
    "    grad_b = 0\n",
    "    grad_m = 0\n",
    "    N = float(len(points))\n",
    "    for i in range(0, len(points)):\n",
    "        x = points[i,0]\n",
    "        y = points[i,1]\n",
    "        grad_b += -(2/N) * (y - ((current_m * x) + current_b))\n",
    "        grad_m += -(2/N) * x * (y - ((current_m * x) + current_b))\n",
    "        new_b = current_b - (learningRate * grad_b)\n",
    "        new_m = current_m - (learningRate * grad_m)\n",
    "    return [new_b,new_m]\n",
    "\n",
    "\n",
    "#The gradient descent function\n",
    "def gradientDescent(init_b, init_m, learningRate, num_iterations, points):\n",
    "    b = init_b\n",
    "    m = init_m\n",
    "    for i in range(len(points)):\n",
    "        b,m = stepGradient(b,m,learningRate, points)\n",
    "    return [b,m]\n",
    "\n",
    "\n",
    "def LinearRegression():\n",
    "    points = genfromtxt('C:/Users/NIKHIL TAIWADE/Desktop/Dataset/Scikit-Learn/data/data.csv', delimiter=',')\n",
    "    #defining hyperparameters\n",
    "    learningRate = 0.0001\n",
    "    num_iterations = 1000\n",
    "    #defining intial b,m\n",
    "    initial_b = 0\n",
    "    initial_m = 0\n",
    "    [b,m] = gradientDescent(initial_b, initial_m, learningRate, num_iterations, points)\n",
    "    print(b)\n",
    "    print(m)\n",
    "\n",
    "\n",
    "if __name__ == '__main__':\n",
    "    LinearRegression()"
   ]
  },
  {
   "cell_type": "code",
   "execution_count": 31,
   "metadata": {},
   "outputs": [
    {
     "name": "stdout",
     "output_type": "stream",
     "text": [
      "Staring Gradient descent at b= 0,m= 0,error = 5565.107834483211\n",
      "Running...\n",
      "After 1000 iterations,b=0.08893651993741346,m=1.4777440851894448,error = 112.61481011613473\n"
     ]
    }
   ],
   "source": [
    "from numpy import *\n",
    "\n",
    "#errorFunction\n",
    "def errorFunction(b,m,points):\n",
    "    totalError=0\n",
    "    for i in range(0,len(points)):\n",
    "        #providing data points\n",
    "        x = points[i,0]\n",
    "        y = points[i,1]\n",
    "        #error = Sum(y-yi)**2/N\n",
    "        totalError += (y - (m * x + b)) ** 2\n",
    "    return totalError / float(len(points))\n",
    "\n",
    "#Gradient Descent: one step at a time\n",
    "def gradientStep(current_b,current_m,points,learningRate):\n",
    "    b_gradient = 0\n",
    "    m_gradient = 0\n",
    "    N = float(len(points))\n",
    "    for i in range(0,len(points)):\n",
    "        x = points[i,0]\n",
    "        y = points[i,1]\n",
    "        #Partial Derivatives on points to get least error using gradient descent\n",
    "        b_gradient += -(2/N) * (y - ((current_m * x) + current_b))\n",
    "        m_gradient += -(2/N) * x * (y - ((current_m * x) + current_b))\n",
    "        #updating b and m values\n",
    "    new_b = current_b - (learningRate*b_gradient)\n",
    "    new_m = current_m - (learningRate*m_gradient)\n",
    "    return [new_b,new_m]\n",
    "        \n",
    "\n",
    "\n",
    "#gradientDescent on data\n",
    "def gradientDescent(start_b,start_m,learningRate,iterations,points):\n",
    "    b = start_b\n",
    "    m = start_m\n",
    "    for i in range(iterations):\n",
    "        b,m = gradientStep(b,m,array(points),learningRate)\n",
    "    return [b,m]\n",
    "    \n",
    "#Linear Regression \n",
    "def LinearRegression():\n",
    "    points = genfromtxt('data.csv', delimiter=',')\n",
    "    #defining hyperparameters\n",
    "    learningRate = 0.0001\n",
    "    iterations = 1000\n",
    "    init_b = 0\n",
    "    init_m = 0\n",
    "    print(\"Staring Gradient descent at b= {},m= {},error = {}\".format(init_b,init_m,errorFunction(init_b,init_m,points)))\n",
    "    print('Running...')\n",
    "    [b,m] = gradientDescent(init_b,init_m,learningRate,iterations,points)\n",
    "    print('After {} iterations,b={},m={},error = {}'.format(iterations,b,m,errorFunction(b,m,points)))\n",
    "\n",
    "\n",
    "\n",
    "if __name__ == '__main__':\n",
    "    LinearRegression()\n"
   ]
  },
  {
   "cell_type": "code",
   "execution_count": null,
   "metadata": {
    "collapsed": true
   },
   "outputs": [],
   "source": []
  }
 ],
 "metadata": {
  "kernelspec": {
   "display_name": "Python 3",
   "language": "python",
   "name": "python3"
  },
  "language_info": {
   "codemirror_mode": {
    "name": "ipython",
    "version": 3
   },
   "file_extension": ".py",
   "mimetype": "text/x-python",
   "name": "python",
   "nbconvert_exporter": "python",
   "pygments_lexer": "ipython3",
   "version": "3.6.8"
  }
 },
 "nbformat": 4,
 "nbformat_minor": 2
}
